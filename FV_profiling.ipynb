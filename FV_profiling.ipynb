{
  "nbformat": 4,
  "nbformat_minor": 0,
  "metadata": {
    "colab": {
      "provenance": [],
      "authorship_tag": "ABX9TyNRnpVxHZCwV89f3/euRzBZ",
      "include_colab_link": true
    },
    "kernelspec": {
      "name": "python3",
      "display_name": "Python 3"
    },
    "language_info": {
      "name": "python"
    }
  },
  "cells": [
    {
      "cell_type": "markdown",
      "metadata": {
        "id": "view-in-github",
        "colab_type": "text"
      },
      "source": [
        "<a href=\"https://colab.research.google.com/github/Kolbjornlindberg/FV-profile-Interpretation/blob/main/FV_profiling.ipynb\" target=\"_parent\"><img src=\"https://colab.research.google.com/assets/colab-badge.svg\" alt=\"Open In Colab\"/></a>"
      ]
    },
    {
      "cell_type": "markdown",
      "source": [
        "# Can We Objectively Define A “good” or “bad” FV-profile test?\n",
        "In multi-joint movements, the FV-relationship (Force-Velocity) is commonly drawn using a linear regression line.\n",
        "The r2-value of the regression line is commonly used to determine the quality of the fit. where 0.95 is previously recommended as a good fit.\n",
        "However, the r2-value alone does not tell us much about the quality of the fit. for example, if we have few data points, the r2-value will be high, even if the fit is poor.\n",
        "So first lets look at a few real world examples of FV-profiles, and see how the r2-value changes with the number of data points.\n",
        "In this Notebook, we will use FV-profiles from a leg press machine (https://doi.org/10.1123/ijspp.2020-0954). The Analysis can be generalised to other movements as well."
      ],
      "metadata": {
        "id": "0OMx5SVi7-ke"
      }
    },
    {
      "cell_type": "code",
      "execution_count": 2,
      "metadata": {
        "id": "B96QzaMM753j"
      },
      "outputs": [],
      "source": [
        "import numpy as np\n",
        "import pandas as pd\n",
        "import os\n",
        "import tabulate\n",
        "from matplotlib import pyplot as plt"
      ]
    },
    {
      "cell_type": "code",
      "source": [
        "# here is the  1.69\n",
        "x = [1.69, 1.4835, 1.3195, 1.1355, 0.928, 0.81, 0.652, 0.465]\n",
        "y = [481.6, 647.8, 779.8, 927.9, 1061.7, 1194.1, 1306.9, 1457.1]\n",
        "\n",
        "r2 = np.corrcoef(x, y)[0, 1] ** 2\n",
        "\n",
        "# plot the data as a scatter plot\n",
        "plt.scatter(x, y)\n",
        "# x label = Averaged Velocity (mm/s)\n",
        "plt.xlabel('Average Velocity (mm/s)')\n",
        "# y label = Averaged Force (N)\n",
        "plt.ylabel('Average Force (N)')\n",
        "\n",
        "# draw a linear regression line through the data\n",
        "plt.plot(x, y, 'o', label='original data')\n",
        "\n",
        "## linear regression, extrapolate to 0\n",
        "z = np.polyfit(x, y, 1)\n",
        "p = np.poly1d(z)\n",
        "\n",
        "# x2 is 0 to the intercep of 0 on the line\n",
        "x2 = np.linspace(0, -p[0] / p[1], 10)\n",
        "\n",
        "y2 = p(x2)\n",
        "plt.plot(x2, y2, 'r--', label='fitted line')\n",
        "\n",
        "# axis limit is 0 to 1.1 times the intercep of 0 on the line\n",
        "plt.xlim(0, 1.1 * -p[0] / p[1])\n",
        "plt.ylim(0, 1.1 * max(y))\n",
        "\n",
        "# add the r^2 value to the plot\n",
        "plt.text(0.05, 0.95, 'r^2 = ' + str(round(r2, 2)), transform=plt.gca().transAxes, fontsize=14)\n",
        "plt.legend()\n",
        "plt.show()\n"
      ],
      "metadata": {
        "colab": {
          "base_uri": "https://localhost:8080/",
          "height": 283
        },
        "id": "lA0mWGh28Ata",
        "outputId": "4235c973-c258-41f5-b447-2cf316afe859"
      },
      "execution_count": 3,
      "outputs": [
        {
          "output_type": "display_data",
          "data": {
            "text/plain": [
              "<Figure size 432x288 with 1 Axes>"
            ],
            "image/png": "[encoded data removed]"
          },
          "metadata": {
            "needs_background": "light"
          }
        }
      ]
    }
  ]
}