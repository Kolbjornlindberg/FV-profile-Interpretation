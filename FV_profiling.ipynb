{
  "nbformat": 4,
  "nbformat_minor": 0,
  "metadata": {
    "colab": {
      "provenance": [],
      "authorship_tag": "ABX9TyNg8q10P4svqz3UXBSsV0TH",
      "include_colab_link": true
    },
    "kernelspec": {
      "name": "python3",
      "display_name": "Python 3"
    },
    "language_info": {
      "name": "python"
    }
  },
  "cells": [
    {
      "cell_type": "markdown",
      "metadata": {
        "id": "view-in-github",
        "colab_type": "text"
      },
      "source": [
        "<a href=\"https://colab.research.google.com/github/Kolbjornlindberg/FV-profile-Interpretation/blob/main/FV_profiling.ipynb\" target=\"_parent\"><img src=\"https://colab.research.google.com/assets/colab-badge.svg\" alt=\"Open In Colab\"/></a>"
      ]
    },
    {
      "cell_type": "markdown",
      "source": [
        "# Can We Objectively Define A “good” or “bad” FV-profile test?\n",
        "In multi-joint movements, the FV-relationship (Force-Velocity) is commonly drawn using a linear regression line.\n",
        "\n",
        "In an ideal situation, the FV-profile would be a straight line with a perfect fit, accurately describing the performance of the athlete/subject at a range of forces and velocities.\n",
        "\n",
        "However, in reality, the datapoints from the FV-profile are often scattered, and the regression line is not always a perfect fit.\n",
        "\n",
        "So then the question is, how do we define a \"good\" or \"bad\" FV-profile test, that best describes the performance of the athlete/subject?\n",
        "\n",
        "\n",
        "\n",
        "Let's look at a few real world examples of FV-profiles, and see if we create som objective criteria for a \"good\" or \"bad\" FV-profile test.\n",
        "\n",
        "In this Notebook, we will use FV-profiles from a leg press machine (https://doi.org/10.1123/ijspp.2020-0954). "
      ],
      "metadata": {
        "id": "0OMx5SVi7-ke"
      }
    },
    {
      "cell_type": "markdown",
      "source": [
        "# Run this cell to get the code"
      ],
      "metadata": {
        "id": "XuwMOt6aLQtO"
      }
    },
    {
      "cell_type": "code",
      "source": [
        "!git clone https://github.com/Kolbjornlindberg/FV-profile-Interpretation.git"
      ],
      "metadata": {
        "colab": {
          "base_uri": "https://localhost:8080/"
        },
        "id": "t_-OrDdiLPwZ",
        "outputId": "5bba1157-9d24-4a49-dc37-7e499d1b5225"
      },
      "execution_count": 9,
      "outputs": [
        {
          "output_type": "stream",
          "name": "stdout",
          "text": [
            "Cloning into 'FV-profile-Interpretation'...\n",
            "remote: Enumerating objects: 9, done.\u001b[K\n",
            "remote: Counting objects: 100% (9/9), done.\u001b[K\n",
            "remote: Compressing objects: 100% (7/7), done.\u001b[K\n",
            "remote: Total 9 (delta 1), reused 0 (delta 0), pack-reused 0\u001b[K\n",
            "Unpacking objects: 100% (9/9), done.\n"
          ]
        }
      ]
    },
    {
      "cell_type": "markdown",
      "source": [
        "# R^2 as a criterion?\n",
        "\n",
        "The r2-value of the regression line is commonly used to determine the quality of the fit. where 0.95 is previously recommended as a good fit (ref).\n",
        "\n",
        "However, the r2-value alone does not tell us much about how good the test actually reflect the true performance. for example, if we have few data points, the r2-value will be high, even if the extrapolation of the regression line is not good.\n",
        "\n",
        "So first lets look at a few real world examples of FV-profiles, and see how the r2-value changes with the number of data points."
      ],
      "metadata": {
        "id": "0j2TpqkTDL5i"
      }
    },
    {
      "cell_type": "markdown",
      "source": [
        "First example is from an Alpine skiier who has performed the FV-profiling test 10+ times asd are well familiar with the test. "
      ],
      "metadata": {
        "id": "d2m8XbAHChac"
      }
    },
    {
      "cell_type": "code",
      "source": [
        "%load r2example.py\n"
      ],
      "metadata": {
        "id": "gkLnv-8hCfzn"
      },
      "execution_count": 20,
      "outputs": []
    }
  ]
}